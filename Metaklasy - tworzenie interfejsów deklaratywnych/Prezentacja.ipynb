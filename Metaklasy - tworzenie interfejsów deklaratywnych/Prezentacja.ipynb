{
 "cells": [
  {
   "cell_type": "markdown",
   "metadata": {
    "slideshow": {
     "slide_type": "slide"
    }
   },
   "source": [
    "# Metaklasy - tworzenie interfejsów deklaratywnych\n",
    "##### Hubert Bielenia\n",
    "---"
   ]
  },
  {
   "cell_type": "markdown",
   "metadata": {
    "slideshow": {
     "slide_type": "slide"
    }
   },
   "source": [
    "## SQLAlchemy - biblioteka dwóch interfejsów"
   ]
  },
  {
   "cell_type": "code",
   "execution_count": null,
   "metadata": {
    "slideshow": {
     "slide_type": "fragment"
    }
   },
   "outputs": [],
   "source": [
    "import sqlalchemy as sa\n",
    "engine = sa.create_engine('sqlite:///:memory:')\n",
    "metadata = sa.MetaData()"
   ]
  },
  {
   "cell_type": "markdown",
   "metadata": {
    "slideshow": {
     "slide_type": "slide"
    }
   },
   "source": [
    "## Programowanie imperatywne\n",
    "\n",
    "Opisuje przepływ sterowania (ang. *control flow*) za pomocą instrukcji warunkowych i wywołań funkcji."
   ]
  },
  {
   "cell_type": "code",
   "execution_count": null,
   "metadata": {
    "scrolled": true,
    "slideshow": {
     "slide_type": "fragment"
    }
   },
   "outputs": [],
   "source": [
    "from sqlalchemy.orm import mapper\n",
    "\n",
    "# Utwórz kolumny\n",
    "c1 = sa.Column('id', sa.Integer, primary_key=True)\n",
    "c2 = sa.Column('name', sa.Text)\n",
    "c3 = sa.Column('salary', sa.Numeric(15, 6))\n",
    "\n",
    "# Utwórz obiekt tabeli\n",
    "person = sa.Table(\n",
    "    'person', metadata, c1, c2, c3, extend_existing=True)\n",
    "\n",
    "class Person(object):\n",
    "    def __init__(self, name, salary):\n",
    "        self.name = name\n",
    "        self.salary = salary\n",
    "\n",
    "# Zmapuj obiekt do klasy\n",
    "mapper(Person, person)"
   ]
  },
  {
   "cell_type": "markdown",
   "metadata": {
    "slideshow": {
     "slide_type": "slide"
    }
   },
   "source": [
    "## Programowanie deklaratywne\n",
    "Za pomocą wyrażeń opisuje pożądany stan, nie zaś algorytm który ma do niego doprowadzić."
   ]
  },
  {
   "cell_type": "code",
   "execution_count": null,
   "metadata": {
    "slideshow": {
     "slide_type": "fragment"
    }
   },
   "outputs": [],
   "source": [
    "del Person\n",
    "\n",
    "from sqlalchemy.ext.declarative import declarative_base\n",
    "Base = declarative_base()\n",
    "\n",
    "# Deklarujemy mapping w jednym kroku!\n",
    "class Person(Base):\n",
    "    __tablename__ = 'person'\n",
    "    \n",
    "    id = sa.Column(sa.Integer, primary_key=True)\n",
    "    name = sa.Column(sa.Text)\n",
    "    salary = sa.Column(sa.Numeric(15, 6))"
   ]
  },
  {
   "cell_type": "markdown",
   "metadata": {
    "slideshow": {
     "slide_type": "slide"
    }
   },
   "source": [
    " * Paradygmaty programowania nie muszą się wykluczać - w większości popularnych języków można używać różnych, zależnie od problemów/potrzeb/preferencji.\n",
    " * W Pythonie (i większości języków obiektowych) utworzenie klasy jest przykładem **deklaracji**.\n",
    " * Do stworzenia deklaratywnego API potrzebujemy więc czegoś, co rozszerzy deklarację klasy o nową funkcjonalność."
   ]
  },
  {
   "cell_type": "markdown",
   "metadata": {
    "slideshow": {
     "slide_type": "slide"
    }
   },
   "source": [
    "### Metaklasa\n",
    "To klasa, której instancją jest również klasa."
   ]
  },
  {
   "cell_type": "markdown",
   "metadata": {
    "slideshow": {
     "slide_type": "slide"
    }
   },
   "source": [
    "`type()` to nie funkcja do sprawdzania typów..."
   ]
  },
  {
   "cell_type": "code",
   "execution_count": 1,
   "metadata": {
    "slideshow": {
     "slide_type": "slide"
    }
   },
   "outputs": [
    {
     "data": {
      "text/plain": [
       "True"
      ]
     },
     "execution_count": 1,
     "metadata": {},
     "output_type": "execute_result"
    }
   ],
   "source": [
    "class Cls:\n",
    "    pass\n",
    "\n",
    "type.__class__ == Cls.__class__ # ...to klasa!"
   ]
  },
  {
   "cell_type": "code",
   "execution_count": 2,
   "metadata": {
    "slideshow": {
     "slide_type": "slide"
    }
   },
   "outputs": [
    {
     "data": {
      "text/plain": [
       "True"
      ]
     },
     "execution_count": 2,
     "metadata": {},
     "output_type": "execute_result"
    }
   ],
   "source": [
    "c = type('NewClass', (object,), {})\n",
    "c.__class__ == Cls.__class__ # ...a nawet metaklasa!"
   ]
  },
  {
   "cell_type": "code",
   "execution_count": 3,
   "metadata": {
    "slideshow": {
     "slide_type": "slide"
    }
   },
   "outputs": [
    {
     "data": {
      "text/plain": [
       "True"
      ]
     },
     "execution_count": 3,
     "metadata": {},
     "output_type": "execute_result"
    }
   ],
   "source": [
    "object.__class__ == type"
   ]
  },
  {
   "cell_type": "markdown",
   "metadata": {
    "slideshow": {
     "slide_type": "slide"
    }
   },
   "source": [
    "Zatem co należy zrobić, by napisać własną metaklasę?"
   ]
  },
  {
   "cell_type": "code",
   "execution_count": 4,
   "metadata": {
    "slideshow": {
     "slide_type": "slide"
    }
   },
   "outputs": [],
   "source": [
    "import csv\n",
    "\n",
    "\n",
    "class BaseModel(type):\n",
    "  \n",
    "  def __new__(cls, *args, **kwargs):\n",
    "    new_cls = super().__new__(cls, *args, **kwargs)\n",
    "\n",
    "    # Don't process the immediate subclass\n",
    "    if new_cls.__name__ == 'Model':\n",
    "      return new_cls\n",
    "\n",
    "    # Create fields registry\n",
    "    fields = {}\n",
    "    for attrname in dir(new_cls):\n",
    "      attr = getattr(new_cls, attrname)\n",
    "      if issubclass(attr.__class__, BaseField):\n",
    "        fields[attrname] = attr\n",
    "    new_cls.fields = fields\n",
    "\n",
    "    new_cls._filename = new_cls.__name__ + '.csv'\n",
    "    open(new_cls._filename, 'a').close() ## Ensure that file exists\n",
    "\n",
    "    # Load initial objects\n",
    "    with open(new_cls._filename, 'r') as csvfile:\n",
    "      reader = csv.DictReader(csvfile, fieldnames=fields.keys())\n",
    "      new_cls.objects = [new_cls(**row) for row in reader]\n",
    "\n",
    "    return new_cls"
   ]
  },
  {
   "cell_type": "code",
   "execution_count": 5,
   "metadata": {
    "slideshow": {
     "slide_type": "subslide"
    }
   },
   "outputs": [],
   "source": [
    "class Model(metaclass=BaseModel):\n",
    "\n",
    "  def __init__(self, **kwargs):\n",
    "    for k, v in kwargs.items():\n",
    "      setattr(self, k, v)\n",
    "  \n",
    "  def __setattr__(self, name, value):\n",
    "    if name in self.fields:\n",
    "      value = self.fields[name](value).value\n",
    "    return super().__setattr__(name, value)\n",
    "  \n",
    "  def __iter__(self):\n",
    "    return iter(\n",
    "      [(f, getattr(self, f)) for f in self.fields])\n",
    "  \n",
    "  def save(self):\n",
    "    with open(self._filename, 'a') as csvfile:\n",
    "      writer = csv.DictWriter(csvfile, fieldnames=self.fields.keys())\n",
    "      writer.writerow(dict(self))\n",
    "      if self not in self.objects:\n",
    "        self.objects.append(self)"
   ]
  },
  {
   "cell_type": "code",
   "execution_count": 6,
   "metadata": {
    "slideshow": {
     "slide_type": "subslide"
    }
   },
   "outputs": [],
   "source": [
    "from decimal import Decimal\n",
    "\n",
    "\n",
    "class BaseField:\n",
    "\n",
    "  def __init__(self):\n",
    "    self.value = self.data_type(False)\n",
    "  \n",
    "  def __call__(self, value):\n",
    "    self.value = self.data_type(value)\n",
    "    return self\n",
    "  \n",
    "  def __repr__(self):\n",
    "    if hasattr(self, 'value'):\n",
    "      return repr(self.value)\n",
    "    else:\n",
    "      return super().__repr__()\n",
    "\n",
    "class DecimalField(BaseField):\n",
    "  data_type = Decimal\n",
    "\n",
    "class IntegerField(BaseField):\n",
    "  data_type = int\n",
    "\n",
    "class StringField(BaseField):\n",
    "  data_type = str"
   ]
  },
  {
   "cell_type": "code",
   "execution_count": 7,
   "metadata": {
    "slideshow": {
     "slide_type": "slide"
    }
   },
   "outputs": [],
   "source": [
    "class Person(Model):\n",
    "  name = StringField()\n",
    "  height_cm = IntegerField()\n",
    "  salary = DecimalField()"
   ]
  },
  {
   "cell_type": "code",
   "execution_count": 8,
   "metadata": {
    "slideshow": {
     "slide_type": "slide"
    }
   },
   "outputs": [
    {
     "name": "stdout",
     "output_type": "stream",
     "text": [
      "175,Jan Kowalski,1200.63\n",
      "\n"
     ]
    }
   ],
   "source": [
    "with open('Person.csv', 'r') as f:\n",
    "    print(f.read())"
   ]
  },
  {
   "cell_type": "code",
   "execution_count": 9,
   "metadata": {
    "slideshow": {
     "slide_type": "slide"
    }
   },
   "outputs": [
    {
     "data": {
      "text/plain": [
       "{'height_cm': 175, 'name': 'Jan Kowalski', 'salary': Decimal('1200.63')}"
      ]
     },
     "execution_count": 9,
     "metadata": {},
     "output_type": "execute_result"
    }
   ],
   "source": [
    "p = Person.objects[0]\n",
    "dict(p)"
   ]
  },
  {
   "cell_type": "code",
   "execution_count": 10,
   "metadata": {
    "slideshow": {
     "slide_type": "slide"
    }
   },
   "outputs": [],
   "source": [
    "p = Person(name='Maciej Nowak', height_cm=168, salary=3000)\n",
    "p.save()"
   ]
  },
  {
   "cell_type": "code",
   "execution_count": 11,
   "metadata": {
    "slideshow": {
     "slide_type": "slide"
    }
   },
   "outputs": [
    {
     "name": "stdout",
     "output_type": "stream",
     "text": [
      "175,Jan Kowalski,1200.63\n",
      "168,Maciej Nowak,3000\n",
      "\n"
     ]
    }
   ],
   "source": [
    "with open('Person.csv', 'r') as f:\n",
    "    print(f.read())"
   ]
  },
  {
   "cell_type": "markdown",
   "metadata": {
    "slideshow": {
     "slide_type": "slide"
    }
   },
   "source": [
    "**„Metaclasses are deeper magic than 99% of users should ever worry about. If you wonder whether you need them, you don't.”**\n",
    "\n",
    "*Tim Peters, Python core developer*"
   ]
  },
  {
   "cell_type": "markdown",
   "metadata": {
    "slideshow": {
     "slide_type": "slide"
    }
   },
   "source": [
    "## Koniec!\n",
    "### Więcej informacji:\n",
    "https://realpython.com/python-metaclasses/\n",
    "https://blog.ionelmc.ro/2015/02/09/understanding-python-metaclasses/"
   ]
  }
 ],
 "metadata": {
  "celltoolbar": "Slideshow",
  "kernelspec": {
   "display_name": "Python 3",
   "language": "python",
   "name": "python3"
  },
  "language_info": {
   "codemirror_mode": {
    "name": "ipython",
    "version": 3
   },
   "file_extension": ".py",
   "mimetype": "text/x-python",
   "name": "python",
   "nbconvert_exporter": "python",
   "pygments_lexer": "ipython3",
   "version": "3.7.2+"
  }
 },
 "nbformat": 4,
 "nbformat_minor": 2
}
